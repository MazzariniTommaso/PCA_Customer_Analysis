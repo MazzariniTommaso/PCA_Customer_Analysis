{
 "cells": [
  {
   "cell_type": "markdown",
   "id": "8ba68bd0-6e63-44c5-a8fb-071cce9d3562",
   "metadata": {},
   "source": [
    "### Import Libraries"
   ]
  },
  {
   "cell_type": "code",
   "execution_count": null,
   "id": "8f63d5ea-cb74-46e3-810f-c338071d1f09",
   "metadata": {},
   "outputs": [],
   "source": [
    "import numpy as np\n",
    "import pandas as pd\n",
    "\n",
    "import random\n",
    "\n",
    "from sklearn.cluster import KMeans\n",
    "from sklearn.metrics import silhouette_score,silhouette_samples\n",
    "from sklearn.decomposition import PCA\n",
    "\n",
    "import matplotlib.pyplot as plt\n",
    "%matplotlib widget\n",
    "\n",
    "from matplotlib import cm\n",
    "from mpl_toolkits.mplot3d import Axes3D\n",
    "from IPython.display import display"
   ]
  },
  {
   "cell_type": "markdown",
   "id": "3ce63e91-cf1e-4410-8f1b-f87b869ab5f2",
   "metadata": {},
   "source": [
    "### Setting the random state"
   ]
  },
  {
   "cell_type": "code",
   "execution_count": null,
   "id": "01561222-98a1-48d5-a3d8-00f5be080d28",
   "metadata": {},
   "outputs": [],
   "source": [
    "rs = min(332078,)"
   ]
  },
  {
   "cell_type": "code",
   "execution_count": null,
   "id": "febfcd72-5ef3-4cff-84ea-e8958d4c89e1",
   "metadata": {},
   "outputs": [],
   "source": [
    "np.random.seed(rs)"
   ]
  },
  {
   "cell_type": "markdown",
   "id": "743166c7-523f-4401-90dd-6bfd279f20e5",
   "metadata": {
    "jp-MarkdownHeadingCollapsed": true
   },
   "source": [
    "## Loading and Preparing the Data"
   ]
  },
  {
   "cell_type": "code",
   "execution_count": null,
   "id": "25b27d04-d71d-4618-8ca0-a606ed4f3424",
   "metadata": {},
   "outputs": [],
   "source": [
    "file_name = 'cla4lsp_customers.csv'\n",
    "df_tot = pd.read_csv(file_name, sep='\\t')"
   ]
  },
  {
   "cell_type": "code",
   "execution_count": null,
   "id": "ad6ccd22-02a7-4d7c-954f-cb6d48f93897",
   "metadata": {},
   "outputs": [],
   "source": [
    "n = int(df_tot.shape[0] * (2/3))\n",
    "df_sample = df_tot.sample(n)"
   ]
  },
  {
   "cell_type": "code",
   "execution_count": null,
   "id": "54c24b53-bd13-49e5-8832-24947bb98cff",
   "metadata": {},
   "outputs": [],
   "source": [
    "workdf = df_sample.copy()"
   ]
  },
  {
   "cell_type": "code",
   "execution_count": null,
   "id": "92bdaa30-2c8c-400d-8ad3-2571dcaacd76",
   "metadata": {},
   "outputs": [],
   "source": [
    "labels = ['NumDealsPurchases','AcceptedCmp1','AcceptedCmp2','AcceptedCmp3','AcceptedCmp4','AcceptedCmp5','Response','Complain','Recency']\n",
    "features = ['Year_Birth','Education','Marital_Status','Income','Kidhome','Teenhome','Dt_Customer','MntWines','MntFruits','MntMeatProducts','MntFishProducts','MntSweetProducts','MntGoldProds','NumWebPurchases','NumCatalogPurchases','NumStorePurchases','NumWebVisitsMonth']\n",
    "other_columns = ['ID','Z_CostContact','Z_Revenue']"
   ]
  },
  {
   "cell_type": "code",
   "execution_count": null,
   "id": "81bd456d-8306-42a2-b4fd-0b178e2b17dd",
   "metadata": {},
   "outputs": [],
   "source": [
    "workdf = workdf.drop(other_columns, axis=1)"
   ]
  },
  {
   "cell_type": "code",
   "execution_count": null,
   "id": "46203ba6-8821-4e69-b098-41f8ef70cfb1",
   "metadata": {
    "scrolled": true
   },
   "outputs": [],
   "source": [
    "workdf[labels]"
   ]
  },
  {
   "cell_type": "code",
   "execution_count": null,
   "id": "98640b42-7277-4f7f-bc29-e0dbb4d799d2",
   "metadata": {
    "scrolled": true
   },
   "outputs": [],
   "source": [
    "print('\\t\\tMAX\\n\\n',workdf[features].max())\n",
    "print('\\n\\t\\tMIN\\n\\n',workdf[features].min())"
   ]
  },
  {
   "cell_type": "code",
   "execution_count": null,
   "id": "08daccf4-505d-459c-badd-c4dd9243dcef",
   "metadata": {},
   "outputs": [],
   "source": [
    "purchasing_habits = ['MntWines', 'MntFruits', 'MntMeatProducts', 'MntFishProducts', 'MntSweetProducts', 'MntGoldProds', 'NumWebPurchases', 'NumCatalogPurchases', 'NumStorePurchases']"
   ]
  },
  {
   "cell_type": "code",
   "execution_count": null,
   "id": "42a71518-f512-4f7b-873d-a038b839cfee",
   "metadata": {},
   "outputs": [],
   "source": [
    "# Removing random column\n",
    "random_pick = random.choice(purchasing_habits)\n",
    "workdf = workdf.drop(random_pick, axis=1)\n",
    "features.remove(random_pick)"
   ]
  },
  {
   "cell_type": "code",
   "execution_count": null,
   "id": "86524ea0-65fa-406d-b7e6-0c9d4bc40587",
   "metadata": {},
   "outputs": [],
   "source": [
    "df_tot.isnull().sum()[lambda x: x>0]"
   ]
  },
  {
   "cell_type": "code",
   "execution_count": null,
   "id": "d02f80fc-f912-4b86-9b44-ad37e2e0cd94",
   "metadata": {},
   "outputs": [],
   "source": [
    "df_tot.shape"
   ]
  },
  {
   "cell_type": "code",
   "execution_count": null,
   "id": "537b2dc9-bce7-45bf-910d-bdbe8c481176",
   "metadata": {},
   "outputs": [],
   "source": [
    "workdf.isnull().sum()[lambda x: x>0]"
   ]
  },
  {
   "cell_type": "code",
   "execution_count": null,
   "id": "863d0f0d-98c6-477d-9751-2e871a2675a5",
   "metadata": {},
   "outputs": [],
   "source": [
    "# rows with NaN Income\n",
    "nan_mask = workdf['Income'].isna()\n",
    "workdf[nan_mask]"
   ]
  },
  {
   "cell_type": "code",
   "execution_count": null,
   "id": "e46a2a5c-678d-4cef-87c6-7e925a8d0113",
   "metadata": {},
   "outputs": [],
   "source": [
    "grouped_df[('Graduation','Married')]"
   ]
  },
  {
   "cell_type": "code",
   "execution_count": null,
   "id": "f855b04e-fb04-413b-835b-cd302c107cd3",
   "metadata": {},
   "outputs": [],
   "source": [
    "grouped_df = workdf.groupby(['Education','Marital_Status'])['Income'].mean()\n",
    "\n",
    "# expected output\n",
    "exp_out = []\n",
    "for i in range(len(workdf[nan_mask])):\n",
    "    exp_out.append(grouped_df[( workdf[nan_mask]['Education'].iloc[i] , workdf[nan_mask]['Marital_Status'].iloc[i] )])\n",
    "exp_out"
   ]
  },
  {
   "cell_type": "code",
   "execution_count": null,
   "id": "28f65d76-c498-46f6-8931-54de60be14d2",
   "metadata": {},
   "outputs": [],
   "source": [
    "id = [workdf[nan_mask].index][0]"
   ]
  },
  {
   "cell_type": "code",
   "execution_count": null,
   "id": "12446c60-ac12-42a6-82d9-0bbeb4fa25be",
   "metadata": {},
   "outputs": [],
   "source": [
    "# Fill the nan values\n",
    "for i in workdf.index:\n",
    "    if workdf['Income'].isna:\n",
    "        workdf.loc[i,'Income'] = grouped_df[( workdf.loc[i,'Education'] , workdf.loc[i,'Marital_Status'] )]"
   ]
  },
  {
   "cell_type": "code",
   "execution_count": null,
   "id": "052afab6-613b-4e90-8e3f-8c01ff85e3d7",
   "metadata": {},
   "outputs": [],
   "source": [
    "# Check whether the newly substituted numbers are equal to the expected numbers\n",
    "workdf.loc[id,'Income'] == exp_out"
   ]
  },
  {
   "cell_type": "markdown",
   "id": "62c997a7-dd3e-4ac5-bb0e-41bf4786a5cf",
   "metadata": {
    "jp-MarkdownHeadingCollapsed": true
   },
   "source": [
    "## Encoding of Categorical Data\n",
    "- Cambiare i livelli di educazione con valori che vanno da 0 a 4\n",
    "- marital status: single (0), together (1)\n",
    "- cambiare anno di nascita con età\n",
    "- Dt_customer drop"
   ]
  },
  {
   "cell_type": "code",
   "execution_count": null,
   "id": "6576a080-7ba0-47e7-93ce-5d14db1802fd",
   "metadata": {},
   "outputs": [],
   "source": [
    "workdf[features]"
   ]
  },
  {
   "cell_type": "code",
   "execution_count": null,
   "id": "f5654313-aaab-4312-8038-ed47986dad29",
   "metadata": {},
   "outputs": [],
   "source": [
    "education_array = workdf['Education'].unique()"
   ]
  },
  {
   "cell_type": "code",
   "execution_count": null,
   "id": "90bc50dc-e868-409f-a31b-b98cb83df245",
   "metadata": {},
   "outputs": [],
   "source": [
    "m_status_array = workdf['Marital_Status'].unique()"
   ]
  },
  {
   "cell_type": "code",
   "execution_count": null,
   "id": "254c8e6d-88c8-4b22-b3e3-020d6570511a",
   "metadata": {},
   "outputs": [],
   "source": [
    "# Feature encoding for Education and Marital_status (one-hot-encoding)\n",
    "def one_hot_encode(df,feature,array):\n",
    "    for elem in array:\n",
    "        df[elem] = 0\n",
    "        i = df[df[feature].values == elem].index\n",
    "        df.loc[i,elem] = 1\n",
    "        \n",
    "one_hot_encode(workdf,'Education',education_array)\n",
    "one_hot_encode(workdf,'Marital_Status',m_status_array)"
   ]
  },
  {
   "cell_type": "code",
   "execution_count": null,
   "id": "9daa4da0-6c58-4291-95ab-5ef5ca36b3e1",
   "metadata": {},
   "outputs": [],
   "source": [
    "# Feature encoding for date (dd, mm, yyyy)\n",
    "\n",
    "# Split the Dt_Customer column in three columns ['Dt_day', 'Dt_month', 'Dt_year']\n",
    "workdf[['Dt_day', 'Dt_month', 'Dt_year']] = list(workdf['Dt_Customer'].str.split('-'))\n",
    "\n",
    "#type(workdf['Dt_day'].iloc[0]) --> str\n",
    "# str --> int\n",
    "workdf[['Dt_day', 'Dt_month', 'Dt_year']] = workdf[['Dt_day', 'Dt_month', 'Dt_year']].astype(int)\n"
   ]
  },
  {
   "cell_type": "code",
   "execution_count": null,
   "id": "9bbb1567-4011-47ca-bfb6-56c7532c7a7d",
   "metadata": {},
   "outputs": [],
   "source": [
    "# drop Education and marital status columns\n",
    "workdf = workdf.drop(['Education','Marital_Status','Dt_Customer'], axis=1)"
   ]
  },
  {
   "cell_type": "code",
   "execution_count": null,
   "id": "8aba526c-7219-4e6e-8b69-554437788f09",
   "metadata": {},
   "outputs": [],
   "source": [
    "#Adding new features\n",
    "features.extend(education_array)\n",
    "features.extend(m_status_array)\n",
    "features.extend(['Dt_day', 'Dt_month', 'Dt_year'])\n",
    "\n",
    "#Remove previus features\n",
    "features = [elem for elem in features if elem not in ['Education','Marital_Status','Dt_Customer']]"
   ]
  },
  {
   "cell_type": "code",
   "execution_count": null,
   "id": "16dc33ae-f2be-42bc-b675-469b5ecb722d",
   "metadata": {
    "scrolled": true
   },
   "outputs": [],
   "source": [
    "workdf.iloc[:20, 22:]"
   ]
  },
  {
   "cell_type": "code",
   "execution_count": null,
   "id": "71c77eb1-0369-4e14-ad59-14d85cf54855",
   "metadata": {},
   "outputs": [],
   "source": [
    "Xworkdf = workdf.copy()"
   ]
  },
  {
   "cell_type": "code",
   "execution_count": null,
   "id": "8e8853f9-3773-477d-a6d3-4a0a4befe8b4",
   "metadata": {},
   "outputs": [],
   "source": [
    "Xworkdf"
   ]
  },
  {
   "cell_type": "markdown",
   "id": "2712db21-69a7-4a06-918d-d5b34cab2630",
   "metadata": {},
   "source": [
    "## Preprocessing and full-PCA\n",
    "\n",
    "- Va fatto su tutte le colonne o solo sulle features (escludendo le labels)?"
   ]
  },
  {
   "cell_type": "code",
   "execution_count": null,
   "id": "bd319800-4751-4e43-a8b0-1de3b9e0d77e",
   "metadata": {},
   "outputs": [],
   "source": [
    "# create Xworkdf_std and Xworksf_mm using a StandardScaler and a MinMaxScaler (min “ 0, max “ 1)\n",
    "from sklearn.preprocessing import StandardScaler, MinMaxScaler\n",
    "\n",
    "Xworkdf_std = StandardScaler()\n",
    "Xworkdf_std.fit(Xworkdf[features].values)\n",
    "t_Xworkdf_std = Xworkdf_std.transform(Xworkdf[features].values)\n",
    "\n",
    "Xworksf_mm = MinMaxScaler()\n",
    "Xworksf_mm.fit(Xworkdf[features].values)\n",
    "t_Xworksf_mm = Xworksf_mm.transform(Xworkdf[features].values)"
   ]
  },
  {
   "cell_type": "markdown",
   "id": "eaa94bce-60f1-4689-8780-358c2d25b1e9",
   "metadata": {},
   "source": [
    "- analyze and comment a comparison of the variances of Xworkdf with the variances of Xworkdf std and Xworkdf mm. What do you observe from this analysis?\n"
   ]
  },
  {
   "cell_type": "code",
   "execution_count": null,
   "id": "360f1fd7-a241-4878-9b78-ee1e59cc6ead",
   "metadata": {},
   "outputs": [],
   "source": [
    "# CONSIDER ONLY THE FEATURES AND NOT THE LABEL FOR PCA"
   ]
  },
  {
   "cell_type": "code",
   "execution_count": null,
   "id": "1c0639cc-4a23-4cf3-ad02-ecb68dc05358",
   "metadata": {},
   "outputs": [],
   "source": [
    "variance1 = [np.var(Xworkdf[features].iloc[:,i]) for i in range(Xworkdf[features].shape[1])]\n",
    "variance2 = [np.var(pd.DataFrame(t_Xworkdf_std).iloc[:,i]) for i in range(t_Xworkdf_std.shape[1])]\n",
    "variance3 = [np.var(pd.DataFrame(t_Xworksf_mm).iloc[:,i]) for i in range(t_Xworksf_mm.shape[1])]\n",
    "\n",
    "variance1 = np.var(Xworkdf[features].values)\n",
    "variance2 = np.var(t_Xworkdf_std)\n",
    "variance3 = np.var(t_Xworksf_mm)\n",
    "\n",
    "max1 = np.max(Xworkdf[features])\n",
    "max2 = np.max(t_Xworkdf_std)\n",
    "max3 = np.max(t_Xworksf_mm)\n",
    "\n",
    "min1 = np.min(Xworkdf[features])\n",
    "min2 = np.min(t_Xworkdf_std)\n",
    "min3 = np.min(t_Xworksf_mm)\n",
    "\n",
    "mean1 = np.mean(Xworkdf[features])\n",
    "mean2 = np.mean(t_Xworkdf_std)\n",
    "mean3 = np.mean(t_Xworksf_mm)\n",
    "# Print variances\n",
    "print(f'\\nVariance of each feature of non rescaled data:\\n {variance1}')\n",
    "print(f'\\nVariance of each feature of standar-scaled data:\\n {variance2}')\n",
    "print(f'\\nVariance of each feature of MinMax-scaled data:\\n {variance3}')\n",
    "\n",
    "# Print Max\n",
    "print(f'\\nMax of non rescaled data:\\n {max1}')\n",
    "print(f'\\nMax of standar-scaled data:\\n {max2}')\n",
    "print(f'\\nMax of MinMax-scaled data:\\n {max3}')\n",
    "\n",
    "# Print Min\n",
    "print(f'\\nMin of non rescaled data:\\n {min1}')\n",
    "print(f'\\nMin of standar-scaled data:\\n {min2}')\n",
    "print(f'\\nMin of MinMax-scaled data:\\n {min3}')\n",
    "\n",
    "# Print Mean\n",
    "print(f'\\nMean of non rescaled data:\\n {mean1}')\n",
    "print(f'\\nMean of standar-scaled data:\\n {mean2}')\n",
    "print(f'\\nMean of MinMax-scaled data:\\n {mean3}')"
   ]
  },
  {
   "cell_type": "markdown",
   "id": "49c82959-3b4f-4fe2-93e4-a8cee9b24e7f",
   "metadata": {},
   "source": [
    "- Apply the “full” PCA1 to the DFs Xworkdf, Xworkdf std, and Xworkdf mm and plot the curve of the cumulative explained variance. Looking at the results, improve the analysis and comments made at the previous step"
   ]
  },
  {
   "cell_type": "code",
   "execution_count": null,
   "id": "ed43d86d-6b81-4740-8ca3-9363c887f0a7",
   "metadata": {},
   "outputs": [],
   "source": [
    "#Apply the “full” PCA1 to the DFs Xworkdf, Xworkdf_std, and Xworkdf_mm\n",
    "pca_Xworkdf = PCA()\n",
    "pca_Xworkdf_std = PCA()\n",
    "pca_Xworkdf_mm = PCA()\n",
    "\n",
    "pca_Xworkdf.fit(Xworkdf[features].values) \n",
    "pca_Xworkdf_std.fit(t_Xworkdf_std)\n",
    "pca_Xworkdf_mm.fit(t_Xworksf_mm)\n",
    "\n",
    "#plot the curve of the cumulative explained variance\n",
    "plt.figure(figsize=(10,5))\n",
    "plt.plot(np.cumsum(pca_Xworkdf.explained_variance_ratio_))\n",
    "plt.title('Xworkdf')\n",
    "plt.ylim([0, 1.1])\n",
    "plt.xticks(ticks=np.arange(pca_Xworkdf.n_features_), \n",
    "           labels=[f'PC{i + 1}' for i in range(pca_Xworkdf.n_features_)])\n",
    "plt.xlabel('Principal components')\n",
    "plt.ylabel('Cumulative explained variance')\n",
    "plt.grid()\n",
    "plt.show()\n",
    "\n",
    "plt.figure(figsize=(10,5))\n",
    "plt.plot(np.cumsum(pca_Xworkdf_std.explained_variance_ratio_))\n",
    "plt.title('Xworkdf_std')\n",
    "plt.ylim([0, 1.1])\n",
    "plt.xticks(ticks=np.arange(pca_Xworkdf_std.n_features_), \n",
    "           labels=[f'PC{i + 1}' for i in range(pca_Xworkdf_std.n_features_)])\n",
    "plt.xlabel('Principal components')\n",
    "plt.ylabel('Cumulative explained variance')\n",
    "plt.grid()\n",
    "plt.show()\n",
    "\n",
    "plt.figure(figsize=(10,5))\n",
    "plt.plot(np.cumsum(pca_Xworkdf_mm.explained_variance_ratio_))\n",
    "plt.title('Xworkdf_mm')\n",
    "plt.ylim([0, 1.1])\n",
    "plt.xticks(ticks=np.arange(pca_Xworkdf_mm.n_features_), \n",
    "           labels=[f'PC{i + 1}' for i in range(pca_Xworkdf_mm.n_features_)])\n",
    "plt.xlabel('Principal components')\n",
    "plt.ylabel('Cumulative explained variance')\n",
    "plt.grid()\n",
    "plt.show()\n"
   ]
  },
  {
   "cell_type": "markdown",
   "id": "28558d47-f7c4-461e-aa34-8b73c4acf01c",
   "metadata": {
    "jp-MarkdownHeadingCollapsed": true
   },
   "source": [
    "## Dimensionality Reduction and Interpretation of the PCs"
   ]
  },
  {
   "cell_type": "code",
   "execution_count": null,
   "id": "1da79116-3248-401a-a5dd-fd668cd27328",
   "metadata": {},
   "outputs": [],
   "source": [
    "# Selecting m PCs such that m = min{m', 5}\n",
    "# m' is the minimum number of PCs that explains 33% of the total variance\n",
    "\n",
    "m_star_std = 3 # m' of Xworkdf_std\n",
    "m_star_mm = 3 # m' of Xworkdf_mm\n",
    "\n",
    "m_std = min(m_star_std,5)\n",
    "m_mm = min(m_star_mm,5)"
   ]
  },
  {
   "cell_type": "code",
   "execution_count": null,
   "id": "f507c945-24ba-4aac-8e9a-a61a3371ef07",
   "metadata": {},
   "outputs": [],
   "source": [
    "pca_std = PCA(n_components = m_std)\n",
    "pca_mm = PCA(n_components = m_mm)\n",
    "\n",
    "# FIT THE PCA\n",
    "pca_std.fit(t_Xworkdf_std)\n",
    "\n",
    "# COMPUTE THE PERCENTAGE OF TOT. EXPL. VARIANCE (ROUNDED TO 2 DECIMALS)\n",
    "round_expl_var_ratio_std = np.round(pca_std.explained_variance_ratio_.sum()*100,2)\n",
    "\n",
    "# MAKE THE BARPLOT\n",
    "plt.figure(figsize=(6, 6))\n",
    "plt.bar(range(1,m_std+1), pca_std.explained_variance_ratio_)\n",
    "plt.title(f\"PCs' EXPLAINED VARIANCE ({round_expl_var_ratio_std}% OF TOT. EXPL. VAR.)\")\n",
    "plt.xticks(ticks=np.arange(1,m_std+1), \n",
    "           labels=[f'PC{i}' for i in range(1,m_std+1)],\n",
    "           rotation=45)\n",
    "plt.xlabel('Principal Components')\n",
    "plt.ylabel('Percentage of Explained variance')\n",
    "plt.grid()\n",
    "plt.show()\n",
    "\n",
    "# FIT THE PCA\n",
    "pca_mm.fit(t_Xworksf_mm)\n",
    "\n",
    "# COMPUTE THE PERCENTAGE OF TOT. EXPL. VARIANCE (ROUNDED TO 2 DECIMALS)\n",
    "round_expl_var_ratio_mm = np.round(pca_mm.explained_variance_ratio_.sum()*100,2)\n",
    "\n",
    "# MAKE THE BARPLOT\n",
    "plt.figure(figsize=(6, 6))\n",
    "plt.bar(range(1,m_mm+1), pca_mm.explained_variance_ratio_)\n",
    "plt.title(f\"PCs' EXPLAINED VARIANCE ({round_expl_var_ratio_mm}% OF TOT. EXPL. VAR.)\")\n",
    "plt.xticks(ticks=np.arange(1,m_mm+1), \n",
    "           labels=[f'PC{i}' for i in range(1,m_mm+1)],\n",
    "           rotation=45)\n",
    "plt.xlabel('Principal Components')\n",
    "plt.ylabel('Percentage of Explained variance')\n",
    "plt.grid()\n",
    "plt.show()"
   ]
  },
  {
   "cell_type": "markdown",
   "id": "769a468f-7a82-49d1-b3ad-2ae6c08aa9f5",
   "metadata": {},
   "source": [
    "- Given the PCs of Xworkdf std and Xworkdf mm, give them an interpretation and, therefore, a name. Tables and/or plots are welcome;"
   ]
  },
  {
   "cell_type": "code",
   "execution_count": null,
   "id": "25233aea-8817-44f4-ab0f-19445752e189",
   "metadata": {
    "scrolled": true
   },
   "outputs": [],
   "source": [
    "# DEFINE EPSILON\n",
    "eps = np.sqrt(1 / pca_std.n_features_)\n",
    "\n",
    "# DEFINE THE LIST OF SKILL COLORS W.R.T. THE SKILL TYPES AND THE SKILL CATEGORIES\n",
    "#skill_colors_type = [skill_types_df.loc[skill_types_df['skill'] == s]['color'].values[0] for s in skill_cols]\n",
    "#skill_colors_cat = [skill_cats_df.loc[skill_cats_df['skill'] == s]['color'].values[0] for s in skill_cols]\n",
    "\n",
    "# MAKE A CUSTOM LEGEND\n",
    "#type_colors_legend = [Line2D([0], [0], color=type_colors[k]) for k in type_colors.keys()]\n",
    "#cat_colors_legend = [Line2D([0], [0], color=cat_colors[k]) for k in cat_colors.keys()]\n",
    "\n",
    "# FOR-CYCLE TO GENERALIZE THE PLOT COMMANDS\n",
    "for ii in range(m_std):\n",
    "    # MAKE THE BARPLOT WITH SKILL TYPE COLORS\n",
    "    plt.figure(figsize=(12, 6))\n",
    "    plt.bar(np.arange(pca_std.n_features_), pca_std.components_[ii, :])#,color=skill_colors_type)\n",
    "    # --- RED LINE DENOTING THE THRESHOLD [-eps, +eps] -----------------\n",
    "    plt.plot([-0.5, pca_std.n_features_ - 0.5], [eps, eps], 'red')\n",
    "    plt.plot([-0.5, pca_std.n_features_ - 0.5], [-eps, -eps], 'red')\n",
    "    # ------------------------------------------------------------------\n",
    "    plt.xticks(ticks=np.arange(pca_std.n_features_),\n",
    "               labels= features,\n",
    "               rotation=75)\n",
    "    plt.title(f'SKILLS (COLORED BY TYPE) - PC{ii + 1}')\n",
    "    #plt.legend(type_colors_legend, [k for k in type_colors.keys()])\n",
    "    plt.grid()\n",
    "    plt.tight_layout()\n",
    "    plt.show()\n",
    "    \n",
    "    # THE SELECTION OF THE SKILLS WITH CONTRIBUTE GREATER THAN THE THRESHOLD\n",
    "    ind_great_pos_PCii = np.argwhere(pca_std.components_[ii, :] >= eps).flatten()\n",
    "    ind_great_neg_PCii = np.argwhere(pca_std.components_[ii, :] <= -eps).flatten()\n",
    "    \n",
    "    great_pos_PCii = [features[i] for i in ind_great_pos_PCii]\n",
    "    great_neg_PCii = [features[i] for i in ind_great_neg_PCii]\n",
    "    \n",
    "    print('')\n",
    "    print(f'****************** PC{ii+1} **********************')\n",
    "    print(f'HIGH-VALUED POSITIVE COMPONENTS: {great_pos_PCii}')\n",
    "    print('')\n",
    "    print(f'HIGH-VALUED NEGATIVE COMPONENTS: {great_neg_PCii}')\n",
    "    print('*********************************************')\n",
    "    print('')"
   ]
  },
  {
   "cell_type": "code",
   "execution_count": null,
   "id": "4c56fef6-a355-4165-b83a-ed34fadf0d02",
   "metadata": {},
   "outputs": [],
   "source": [
    "# DEFINE EPSILON\n",
    "eps = np.sqrt(1 / pca_mm.n_features_)\n",
    "\n",
    "# DEFINE THE LIST OF SKILL COLORS W.R.T. THE SKILL TYPES AND THE SKILL CATEGORIES\n",
    "#skill_colors_type = [skill_types_df.loc[skill_types_df['skill'] == s]['color'].values[0] for s in skill_cols]\n",
    "#skill_colors_cat = [skill_cats_df.loc[skill_cats_df['skill'] == s]['color'].values[0] for s in skill_cols]\n",
    "\n",
    "# MAKE A CUSTOM LEGEND\n",
    "#type_colors_legend = [Line2D([0], [0], color=type_colors[k]) for k in type_colors.keys()]\n",
    "#cat_colors_legend = [Line2D([0], [0], color=cat_colors[k]) for k in cat_colors.keys()]\n",
    "\n",
    "# FOR-CYCLE TO GENERALIZE THE PLOT COMMANDS\n",
    "for ii in range(m_mm):\n",
    "    # MAKE THE BARPLOT WITH SKILL TYPE COLORS\n",
    "    plt.figure(figsize=(12, 6))\n",
    "    plt.bar(np.arange(pca_mm.n_features_), pca_mm.components_[ii, :])#,color=skill_colors_type)\n",
    "    # --- RED LINE DENOTING THE THRESHOLD [-eps, +eps] -----------------\n",
    "    plt.plot([-0.5, pca_mm.n_features_ - 0.5], [eps, eps], 'red')\n",
    "    plt.plot([-0.5, pca_mm.n_features_ - 0.5], [-eps, -eps], 'red')\n",
    "    # ------------------------------------------------------------------\n",
    "    plt.xticks(ticks=np.arange(pca_mm.n_features_),\n",
    "               labels= features,\n",
    "               rotation=75)\n",
    "    plt.title(f'SKILLS (COLORED BY TYPE) - PC{ii + 1}')\n",
    "    #plt.legend(type_colors_legend, [k for k in type_colors.keys()])\n",
    "    plt.grid()\n",
    "    plt.tight_layout()\n",
    "    plt.show()\n",
    "    \n",
    "    # THE SELECTION OF THE SKILLS WITH CONTRIBUTE GREATER THAN THE THRESHOLD\n",
    "    ind_great_pos_PCii = np.argwhere(pca_mm.components_[ii, :] >= eps).flatten()\n",
    "    ind_great_neg_PCii = np.argwhere(pca_mm.components_[ii, :] <= -eps).flatten()\n",
    "    \n",
    "    great_pos_PCii = [features[i] for i in ind_great_pos_PCii]\n",
    "    great_neg_PCii = [features[i] for i in ind_great_neg_PCii]\n",
    "    \n",
    "    print('')\n",
    "    print(f'****************** PC{ii+1} **********************')\n",
    "    print(f'HIGH-VALUED POSITIVE COMPONENTS: {great_pos_PCii}')\n",
    "    print('')\n",
    "    print(f'HIGH-VALUED NEGATIVE COMPONENTS: {great_neg_PCii}')\n",
    "    print('*********************************************')\n",
    "    print('')"
   ]
  },
  {
   "cell_type": "markdown",
   "id": "da257d35-b5cf-46b8-9f0c-082a409d96d6",
   "metadata": {},
   "source": [
    "- After the interpretation, for both the DFs represent a score graph with respect to the firstlPCs,wherel“2ifm“2andl“3ifmě3. Inparticular,writethenamesof the PCs (chosen by you) on the axes of the plots;"
   ]
  },
  {
   "cell_type": "code",
   "execution_count": null,
   "id": "e243364c-4fe8-4339-879e-dc96e43d0edb",
   "metadata": {},
   "outputs": [],
   "source": [
    "pc_names_std = ['Customer Purchases (+) vs Monthly Views & Kids (-)',\n",
    "                'Teenager (+) vs Adult (-)', # Birth & Basic & Single (+) vs Income & Teen & Phd (+)\n",
    "                'Enroll year (+) vs Enroll month & WebActive & Basic (-)',\n",
    "                'PhD & Master & Basic (+) vs Graduation (-)'\n",
    "                ]"
   ]
  },
  {
   "cell_type": "code",
   "execution_count": null,
   "id": "58eec27b-0a2a-4a42-a30e-799c59cfa0af",
   "metadata": {},
   "outputs": [],
   "source": [
    "pc_names_mm = ['PhD & Master (+) vs Graduation (-)',\n",
    "               'Married (+) & Together & Single (-)',\n",
    "               'Single (+) & Together(-)'\n",
    "               ]"
   ]
  },
  {
   "cell_type": "code",
   "execution_count": null,
   "id": "df2c0c79-8cbb-4754-a974-20ca0e899068",
   "metadata": {},
   "outputs": [],
   "source": [
    "#S STD core graph \n",
    "Yworkdf_std = pca_std.transform(t_Xworkdf_std)\n",
    "\n",
    "# MAKE THE 3D SCORE GRAPH\n",
    "sg_3d = plt.figure(figsize=(8, 8))\n",
    "ax_sg_3d = sg_3d.add_subplot(111, projection='3d')\n",
    "ax_sg_3d.scatter(Yworkdf_std[:, 0], Yworkdf_std[:, 1], Yworkdf_std[:, 2], s=2, alpha=0.25)\n",
    "plt.title('...')\n",
    "ax_sg_3d.set_xlabel(pc_names_std[0])\n",
    "ax_sg_3d.set_ylabel(pc_names_std[1])\n",
    "ax_sg_3d.set_zlabel(pc_names_std[2])\n",
    "#plt.legend(genpos_colors_legend, [k for k in genpos_colors.keys()])\n",
    "plt.grid()\n",
    "plt.show()\n",
    "\n",
    "# MAKE THE 2D SCORE GRAPH\n",
    "plt.figure()\n",
    "plt.scatter(Yworkdf_std[:, 0], Yworkdf_std[:, 1], s=2, alpha=0.25)\n",
    "plt.title('...')\n",
    "plt.xlabel(pc_names_std[0])\n",
    "plt.ylabel(pc_names_std[1])\n",
    "#plt.legend(genpos_colors_legend, [k for k in genpos_colors.keys()])\n",
    "plt.grid()\n",
    "plt.show()"
   ]
  },
  {
   "cell_type": "code",
   "execution_count": null,
   "id": "4ec6c4c2-9b30-4a0d-a54d-6434c7dfe9c8",
   "metadata": {},
   "outputs": [],
   "source": [
    "#S STD core graph \n",
    "Yworkdf_mm = pca_mm.transform(t_Xworksf_mm)\n",
    "\n",
    "# MAKE THE 3D SCORE GRAPH\n",
    "sg_3d = plt.figure(figsize=(8, 8))\n",
    "ax_sg_3d = sg_3d.add_subplot(111, projection='3d')\n",
    "ax_sg_3d.scatter(Yworkdf_mm[:, 0], Yworkdf_mm[:, 1], Yworkdf_mm[:, 2], s=2, alpha=0.25)\n",
    "plt.title('...')\n",
    "ax_sg_3d.set_xlabel(pc_names_mm[0])\n",
    "ax_sg_3d.set_ylabel(pc_names_mm[1])\n",
    "ax_sg_3d.set_zlabel(pc_names_mm[2])\n",
    "#plt.legend(genpos_colors_legend, [k for k in genpos_colors.keys()])\n",
    "plt.grid()\n",
    "plt.show()\n",
    "\n",
    "# MAKE THE 2D SCORE GRAPH\n",
    "plt.figure()\n",
    "plt.scatter(Yworkdf_mm[:, 0], Yworkdf_mm[:, 1], s=2, alpha=0.25)\n",
    "plt.title('...')\n",
    "plt.xlabel(pc_names_mm[0])\n",
    "plt.ylabel(pc_names_mm[1])\n",
    "#plt.legend(genpos_colors_legend, [k for k in genpos_colors.keys()])\n",
    "plt.grid()\n",
    "plt.show()"
   ]
  },
  {
   "cell_type": "markdown",
   "id": "62764a6f-99d6-40a3-a321-ccecf977dab4",
   "metadata": {},
   "source": [
    "- Optional: make more than one score graph, coloring the dots with respect to any label you consider meaningful."
   ]
  },
  {
   "cell_type": "markdown",
   "id": "f0eb4ea3-bcb8-455c-a4e5-ca7f4bb39569",
   "metadata": {},
   "source": [
    "- analyze and comment the results"
   ]
  },
  {
   "cell_type": "code",
   "execution_count": null,
   "id": "1144612d-4525-4be7-8147-e26f5ed6fcad",
   "metadata": {},
   "outputs": [],
   "source": []
  },
  {
   "cell_type": "markdown",
   "id": "4cb0ec8a-673a-4386-bab1-c1199d4bab76",
   "metadata": {
    "jp-MarkdownHeadingCollapsed": true
   },
   "source": [
    "## K-Means\n",
    "- Run the k-Means algorithm on the two DFs, with respect to the “PC-space”. Select the best value of k in {3,...,10} using the silhouette coefficient."
   ]
  },
  {
   "cell_type": "code",
   "execution_count": null,
   "id": "3ab7603a-caa5-41c0-a3a8-73fe0e5a87eb",
   "metadata": {},
   "outputs": [],
   "source": [
    "km_list_std = []\n",
    "silcoeff_list_std = []\n",
    "k_list_std = list(range(3, 11))\n",
    "\n",
    "# START THE FOR-CYCLE TO RUN THE k-MEANS AND MEASURING THE SILHOUETTE COEFFICIENT\n",
    "for i in range(len(k_list_std)):\n",
    "    print(f'****************** START k-MEANS WITH k={k_list_std[i]} ******************')\n",
    "    print('Computing...')\n",
    "    km_list_std.append(KMeans(n_clusters=k_list_std[i], n_init=3, random_state=rs))\n",
    "    km_std = km_list_std[i]\n",
    "    km_std.fit(Yworkdf_std)\n",
    "    silcoeff_list_std.append(silhouette_score(Yworkdf_std,km_std.labels_))\n",
    "    print(f'****************** END k-MEANS WITH k={k_list_std[i]} ******************')\n",
    "    print('')\n",
    "\n",
    "# FIND THE BEST VALUE OF k AND THE BEST KMeans OBJECT\n",
    "i_best_std = np.argmax(silcoeff_list_std)\n",
    "k_std = k_list_std[i_best_std]\n",
    "km_std = km_list_std[i_best_std]\n",
    "\n",
    "# VISUALIZE THE RESULT\n",
    "print('')\n",
    "print('')\n",
    "print('****************** RESULTS OF THE SEARCH... ******************')\n",
    "print(f'BEST SILHOUETTE SCORE: {np.max(silcoeff_list_std)} --> k = {k_std}') \n",
    "print('**************************************************************')"
   ]
  },
  {
   "cell_type": "code",
   "execution_count": null,
   "id": "273eba2a-0fea-442c-b82e-2b6f460b091b",
   "metadata": {},
   "outputs": [],
   "source": [
    "km_list_mm = []\n",
    "silcoeff_list_mm = []\n",
    "k_list_mm = list(range(3, 11))\n",
    "\n",
    "# START THE FOR-CYCLE TO RUN THE k-MEANS AND MEASURING THE SILHOUETTE COEFFICIENT\n",
    "for i in range(len(k_list_mm)):\n",
    "    print(f'****************** START k-MEANS WITH k={k_list_mm[i]} ******************')\n",
    "    print('Computing...')\n",
    "    km_list_mm.append(KMeans(n_clusters=k_list_mm[i], n_init=3, random_state=rs))\n",
    "    km_mm = km_list_mm[i]\n",
    "    km_mm.fit(Yworkdf_mm)\n",
    "    silcoeff_list_mm.append(silhouette_score(Yworkdf_mm,km_mm.labels_))\n",
    "    print(f'****************** END k-MEANS WITH k={k_list_mm[i]} ******************')\n",
    "    print('')\n",
    "\n",
    "# FIND THE BEST VALUE OF k AND THE BEST KMeans OBJECT\n",
    "i_best_mm = np.argmax(silcoeff_list_mm)\n",
    "k_mm = k_list_mm[i_best_std]\n",
    "km_mm = km_list_mm[i_best_std]\n",
    "\n",
    "# VISUALIZE THE RESULT\n",
    "print('')\n",
    "print('')\n",
    "print('****************** RESULTS OF THE SEARCH... ******************')\n",
    "print(f'BEST SILHOUETTE SCORE: {np.max(silcoeff_list_mm)} --> k = {k_mm}') \n",
    "print('**************************************************************')"
   ]
  },
  {
   "cell_type": "markdown",
   "id": "41f565f0-b9b3-4140-8f5b-593c6c3ae7c5",
   "metadata": {
    "jp-MarkdownHeadingCollapsed": true
   },
   "source": [
    "## Clusters and Centroid Interpretation and Visualization\n",
    "- Comment the centroids of the best clustering for both the DFs\n",
    "  - give to each centroid a name or a meaningful brief description that characterizes the average customer in the cluster\n",
    "    represented by the centroid.\n",
    "- plot the score graph of exercise 4 together with the centroids (showing the different clusters using different colors and/or markers for the dots)"
   ]
  },
  {
   "cell_type": "code",
   "execution_count": null,
   "id": "a8f324c7-72c6-4335-a111-94aeb0449578",
   "metadata": {},
   "outputs": [],
   "source": [
    "# MAKE THE 3D SCORE GRAPH WITH THE CENTROIDS\n",
    "sg_3d_km = plt.figure(figsize=(8, 8))\n",
    "ax_sg_3d_km = sg_3d_km.add_subplot(111, projection='3d')\n",
    "ax_sg_3d_km.scatter(Yworkdf_std[:, 0], Yworkdf_std[:, 1], Yworkdf_std[:, 2], s=2,alpha=0.15)\n",
    "ax_sg_3d_km.scatter(km_std.cluster_centers_[:,0], km_std.cluster_centers_[:,1], km_std.cluster_centers_[:,2], c='black')\n",
    "for kk in range(k_std):\n",
    "    ax_sg_3d_km.text(km_std.cluster_centers_[kk, 0], km_std.cluster_centers_[kk, 1], km_std.cluster_centers_[kk, 2], f'clust.{kk+1}')\n",
    "plt.title('...')\n",
    "ax_sg_3d_km.set_xlabel(pc_names_std[0])\n",
    "ax_sg_3d_km.set_ylabel(pc_names_std[1])\n",
    "ax_sg_3d_km.set_zlabel(pc_names_std[2])\n",
    "#plt.legend(genpos_colors_legend, [k for k in genpos_colors.keys()])\n",
    "plt.grid()\n",
    "plt.show()"
   ]
  },
  {
   "cell_type": "code",
   "execution_count": null,
   "id": "1e547fd8-5407-451d-a8e7-1674958ff34c",
   "metadata": {},
   "outputs": [],
   "source": [
    "# MAKE THE 3D SCORE GRAPH WITH THE CENTROIDS\n",
    "sg_3d_km = plt.figure(figsize=(8, 8))\n",
    "ax_sg_3d_km = sg_3d_km.add_subplot(111, projection='3d')\n",
    "ax_sg_3d_km.scatter(Yworkdf_mm[:, 0], Yworkdf_mm[:, 1], Yworkdf_mm[:, 2], s=2,alpha=0.05)\n",
    "ax_sg_3d_km.scatter(km_mm.cluster_centers_[:,0], km_mm.cluster_centers_[:,1], km_mm.cluster_centers_[:,2], c='black')\n",
    "for kk in range(k_mm):\n",
    "    ax_sg_3d_km.text(km_mm.cluster_centers_[kk, 0], km_mm.cluster_centers_[kk, 1], km_mm.cluster_centers_[kk, 2], f'clust.{kk+1}')\n",
    "plt.title('...')\n",
    "ax_sg_3d_km.set_xlabel(pc_names_mm[0])\n",
    "ax_sg_3d_km.set_ylabel(pc_names_mm[1])\n",
    "ax_sg_3d_km.set_zlabel(pc_names_mm[2])\n",
    "#plt.legend(genpos_colors_legend, [k for k in genpos_colors.keys()])\n",
    "plt.grid()\n",
    "plt.show()"
   ]
  },
  {
   "cell_type": "code",
   "execution_count": null,
   "id": "6a670341-997a-4020-87ab-0e2d79fdf4e3",
   "metadata": {},
   "outputs": [],
   "source": [
    "# COMPUTE THE MAX/MIN VALUES IN THE PC-SPACE\n",
    "maxs_y = Yworkdf_std.max(axis=0) \n",
    "mins_y = Yworkdf_std.min(axis=0) \n",
    "\n",
    "# MAKE THE BARPLOTS OF THE CENTROIDS\n",
    "fig_centroids, ax_centroids = plt.subplots(2, 2, figsize=(10, 15))\n",
    "for ii in range(k_std):\n",
    "    ir = ii // 2\n",
    "    ic = ii % 2\n",
    "    ax_centroids[ir, ic].bar(np.arange(km_std.cluster_centers_.shape[1]), maxs_y, color='blue', alpha=0.15)\n",
    "    ax_centroids[ir, ic].bar(np.arange(km_std.cluster_centers_.shape[1]), mins_y, color='blue', alpha=0.15)\n",
    "    ax_centroids[ir, ic].bar(np.arange(km_std.cluster_centers_.shape[1]), km_std.cluster_centers_[ii,:])\n",
    "    ax_centroids[ir, ic].set_xticks(ticks=np.arange(km_std.cluster_centers_.shape[1]))\n",
    "    ax_centroids[ir, ic].set_xticklabels(labels=pc_names_std, rotation=75)\n",
    "    ax_centroids[ir, ic].grid(visible=True, which='both')\n",
    "    plt.tight_layout()\n",
    "    ax_centroids[ir, ic].set_title(f'CENTROID {ii+1}')"
   ]
  },
  {
   "cell_type": "code",
   "execution_count": null,
   "id": "edb2821a-41df-4084-aaed-be87cb850d59",
   "metadata": {},
   "outputs": [],
   "source": [
    "# COMPUTE THE MAX/MIN VALUES IN THE PC-SPACE\n",
    "maxs_y = Yworkdf_mm.max(axis=0) \n",
    "mins_y = Yworkdf_mm.min(axis=0) \n",
    "\n",
    "# MAKE THE BARPLOTS OF THE CENTROIDS\n",
    "fig_centroids, ax_centroids = plt.subplots(2, 2, figsize=(10, 15))\n",
    "for ii in range(k_mm):\n",
    "    ir = ii // 2\n",
    "    ic = ii % 2\n",
    "    ax_centroids[ir, ic].bar(np.arange(km_mm.cluster_centers_.shape[1]), maxs_y, color='blue', alpha=0.15)\n",
    "    ax_centroids[ir, ic].bar(np.arange(km_mm.cluster_centers_.shape[1]), mins_y, color='blue', alpha=0.15)\n",
    "    ax_centroids[ir, ic].bar(np.arange(km_mm.cluster_centers_.shape[1]), km_mm.cluster_centers_[ii,:])\n",
    "    ax_centroids[ir, ic].set_xticks(ticks=np.arange(km_mm.cluster_centers_.shape[1]))\n",
    "    ax_centroids[ir, ic].set_xticklabels(labels=pc_names_mm, rotation=75)\n",
    "    ax_centroids[ir, ic].grid(visible=True, which='both')\n",
    "    plt.tight_layout()\n",
    "    ax_centroids[ir, ic].set_title(f'CENTROID {ii+1}')"
   ]
  },
  {
   "cell_type": "code",
   "execution_count": null,
   "id": "29515bb2-e9c6-4021-877a-d077b28d6bba",
   "metadata": {},
   "outputs": [],
   "source": [
    "cluster_names_std = ['1',\n",
    "                     '2',\n",
    "                     '3',\n",
    "                     '4'\n",
    "                     ]"
   ]
  },
  {
   "cell_type": "code",
   "execution_count": null,
   "id": "de66a4cb-993e-4578-b800-c56398bdb696",
   "metadata": {},
   "outputs": [],
   "source": [
    "cluster_names_mm = ['1',\n",
    "                     '2',\n",
    "                     '3',\n",
    "                     '4'\n",
    "                     ]"
   ]
  },
  {
   "cell_type": "markdown",
   "id": "d9c62321-e004-4bde-960b-853a7d4b773d",
   "metadata": {
    "jp-MarkdownHeadingCollapsed": true
   },
   "source": [
    "## Clusters and Centroid Evaluation\n",
    "- For both the DFs, perform an internal and an external evaluation of the clusterings obtained\n",
    "  - Measure the silhouette scores of the clusters (internal evaluation);\n",
    "  - perform an external evaluation of the clusters analyzing and plotting the distribution of the labels (view lesson 22/12/23)\n",
    "  - Comment the results. Compare the results obtained from Xworkdf std and Xworkdf mm and comment them"
   ]
  },
  {
   "cell_type": "code",
   "execution_count": null,
   "id": "7a2f61c0-1888-4d6e-8fde-d4fe76fe0f37",
   "metadata": {},
   "outputs": [],
   "source": [
    "silscores = silhouette_samples(Yworkdf_std, km_std.labels_)\n",
    "cluster_silscores = [np.mean (silscores [km_std.labels_ == kk]) for kk in range (k_std) ]\n",
    "display(pd.DataFrame(np.array(cluster_silscores + [np.max(silcoeff_list_std)]), index=cluster_names_std + ['Global'], columns=['Sil. Score' ]))"
   ]
  },
  {
   "cell_type": "code",
   "execution_count": null,
   "id": "b3413c5d-ab0a-45bd-b48d-4a220e085ea6",
   "metadata": {},
   "outputs": [],
   "source": [
    "silscores = silhouette_samples(Yworkdf_mm, km_mm.labels_)\n",
    "cluster_silscores = [np.mean (silscores [km_mm.labels_ == kk]) for kk in range (k_mm) ]\n",
    "display(pd.DataFrame(np.array(cluster_silscores + [np.max(silcoeff_list_mm)]), index=cluster_names_mm + ['Global'], columns=['Sil. Score' ]))"
   ]
  },
  {
   "cell_type": "code",
   "execution_count": null,
   "id": "160d4c5b-fa5a-470f-8c10-48b2f7a00612",
   "metadata": {},
   "outputs": [],
   "source": [
    "#EXTERNAL EVALUATION"
   ]
  },
  {
   "cell_type": "code",
   "execution_count": null,
   "id": "b3b92d24-f0b4-4016-bbfe-f361ee451bdc",
   "metadata": {},
   "outputs": [],
   "source": [
    "Xworkdf.columns"
   ]
  },
  {
   "cell_type": "code",
   "execution_count": null,
   "id": "b8337d1e-1611-4d85-97f3-7a96c80161bf",
   "metadata": {},
   "outputs": [],
   "source": []
  }
 ],
 "metadata": {
  "kernelspec": {
   "display_name": "Python 3 (ipykernel)",
   "language": "python",
   "name": "python3"
  },
  "language_info": {
   "codemirror_mode": {
    "name": "ipython",
    "version": 3
   },
   "file_extension": ".py",
   "mimetype": "text/x-python",
   "name": "python",
   "nbconvert_exporter": "python",
   "pygments_lexer": "ipython3",
   "version": "3.12.0"
  }
 },
 "nbformat": 4,
 "nbformat_minor": 5
}
